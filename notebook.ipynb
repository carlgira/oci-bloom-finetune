{
 "cells": [
  {
   "cell_type": "code",
   "execution_count": 1,
   "id": "3c776dc8-55ec-4f15-ad80-88af8a6fe524",
   "metadata": {
    "tags": []
   },
   "outputs": [],
   "source": [
    "# Source https://www.kaggle.com/code/julianschelb/finetune-bloom-token-classification\n",
    "# https://github.com/dptrsa-300/start_with_bloom/blob/main/bloomex_nb.ipynb\n",
    "# https://github.com/dredwardhyde/gpt-neo-fine-tuning-example\n",
    "\n",
    "from transformers import (BloomTokenizerFast,\n",
    "                          BloomForCausalLM,\n",
    "                          DataCollatorForTokenClassification, \n",
    "                          AutoModelForTokenClassification, \n",
    "                          TrainingArguments, Trainer)\n",
    "from datasets import load_dataset\n",
    "import torch\n",
    "import os\n",
    "\n"
   ]
  },
  {
   "cell_type": "code",
   "execution_count": 2,
   "id": "dac040a8-a583-49f1-9c71-a41087773b87",
   "metadata": {
    "tags": []
   },
   "outputs": [],
   "source": [
    "model_name = \"bloom-560m\"\n",
    "tokenizer = BloomTokenizerFast.from_pretrained(f\"bigscience/{model_name}\", add_prefix_space=True)\n",
    "model = BloomForCausalLM.from_pretrained(f\"bigscience/{model_name}\")\n"
   ]
  },
  {
   "cell_type": "code",
   "execution_count": 3,
   "id": "20930dde-4402-42dc-88e4-25716c21d6ff",
   "metadata": {
    "tags": []
   },
   "outputs": [],
   "source": [
    "from torch.utils.data import Dataset, random_split\n",
    "import pandas as pd\n",
    "from transformers import AutoTokenizer, TrainingArguments, Trainer, AutoModelForCausalLM, IntervalStrategy\n",
    "\n",
    "descriptions = pd.read_json('dataset.json')['text']\n",
    "descriptions = descriptions[descriptions['text'].str.len() < 1000]['text']\n",
    "max_length = max([len(tokenizer.encode(description)) for description in descriptions])\n",
    "\n",
    "\n",
    "class OCIDataset(Dataset):\n",
    "    def __init__(self, txt_list, tokenizer, max_length):\n",
    "        self.input_ids = []\n",
    "        self.attn_masks = []\n",
    "        self.labels = []\n",
    "        for txt in txt_list:\n",
    "            encodings_dict = tokenizer('<|startoftext|>' + txt + '<|endoftext|>', truncation=True,\n",
    "                                       max_length=max_length, padding=\"max_length\")\n",
    "            self.input_ids.append(torch.tensor(encodings_dict['input_ids']))\n",
    "            self.attn_masks.append(torch.tensor(encodings_dict['attention_mask']))\n",
    "\n",
    "    def __len__(self):\n",
    "        return len(self.input_ids)\n",
    "\n",
    "    def __getitem__(self, idx):\n",
    "        return self.input_ids[idx], self.attn_masks[idx]\n",
    "\n",
    "\n",
    "dataset = OCIDataset(descriptions, tokenizer, max_length=max_length)\n"
   ]
  },
  {
   "cell_type": "code",
   "execution_count": null,
   "id": "0c0ca7fe-2ee5-423c-a1a8-e571197f8b86",
   "metadata": {
    "tags": []
   },
   "outputs": [
    {
     "name": "stderr",
     "output_type": "stream",
     "text": [
      "/Users/carlgira/files/bloom/oci-bloom-finetune/oci-bloom-finetune/venv/lib/python3.9/site-packages/transformers/optimization.py:306: FutureWarning: This implementation of AdamW is deprecated and will be removed in a future version. Use the PyTorch implementation torch.optim.AdamW instead, or set `no_deprecation_warning=True` to disable this warning\n",
      "  warnings.warn(\n",
      "***** Running training *****\n",
      "  Num examples = 2743\n",
      "  Num Epochs = 1\n",
      "  Instantaneous batch size per device = 2\n",
      "  Total train batch size (w. parallel, distributed & accumulation) = 2\n",
      "  Gradient Accumulation steps = 1\n",
      "  Total optimization steps = 1372\n",
      "  Number of trainable parameters = 559214592\n"
     ]
    }
   ],
   "source": [
    "train_size = int(0.9 * len(dataset))\n",
    "train_dataset, val_dataset = random_split(dataset, [train_size, len(dataset) - train_size])\n",
    "training_args = TrainingArguments(output_dir='./results', num_train_epochs=1, logging_steps=100,\n",
    "                                  save_strategy=IntervalStrategy.NO,\n",
    "                                  per_device_train_batch_size=2, per_device_eval_batch_size=2,\n",
    "                                  warmup_steps=100, weight_decay=0.01, logging_dir='./logs',\n",
    "                                 save_total_limit=1, load_best_model_at_end=True)\n",
    "\n",
    "trainer = Trainer(model=model, args=training_args, train_dataset=train_dataset,\n",
    "        eval_dataset=val_dataset, data_collator=lambda data: {'input_ids': torch.stack([f[0] for f in data]),\n",
    "                                                              'attention_mask': torch.stack([f[1] for f in data]),\n",
    "                                                              'labels': torch.stack([f[0] for f in data])}).train()\n"
   ]
  },
  {
   "cell_type": "code",
   "execution_count": null,
   "id": "d7f83092-6a66-4fd5-bbbe-f3841a02190e",
   "metadata": {},
   "outputs": [],
   "source": [
    "generated = tokenizer(\"<|startoftext|>\", return_tensors=\"pt\").input_ids.cuda()\n",
    "\n",
    "sample_outputs = model.generate(generated, do_sample=True, top_k=50,\n",
    "                                bos_token='<|startoftext|>',\n",
    "                                eos_token='<|endoftext|>', pad_token='<|pad|>',\n",
    "\n",
    "                                max_length=300, top_p=0.95, temperature=1.9, num_return_sequences=20)\n",
    "for i, sample_output in enumerate(sample_outputs):\n",
    "    print(\"{}: {}\".format(i, tokenizer.decode(sample_output, skip_special_tokens=True)))\n"
   ]
  }
 ],
 "metadata": {
  "kernelspec": {
   "display_name": "Python 3 (ipykernel)",
   "language": "python",
   "name": "python3"
  },
  "language_info": {
   "codemirror_mode": {
    "name": "ipython",
    "version": 3
   },
   "file_extension": ".py",
   "mimetype": "text/x-python",
   "name": "python",
   "nbconvert_exporter": "python",
   "pygments_lexer": "ipython3",
   "version": "3.9.6"
  }
 },
 "nbformat": 4,
 "nbformat_minor": 5
}
